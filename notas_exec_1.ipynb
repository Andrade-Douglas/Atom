{
  "nbformat": 4,
  "nbformat_minor": 0,
  "metadata": {
    "colab": {
      "name": "notas_exec_1.ipynb",
      "provenance": [],
      "collapsed_sections": [],
      "toc_visible": true,
      "include_colab_link": true
    },
    "kernelspec": {
      "name": "python3",
      "display_name": "Python 3"
    }
  },
  "cells": [
    {
      "cell_type": "markdown",
      "metadata": {
        "id": "view-in-github",
        "colab_type": "text"
      },
      "source": [
        "<a href=\"https://colab.research.google.com/github/Andrade-Douglas/Atom/blob/master/notas_exec_1.ipynb\" target=\"_parent\"><img src=\"https://colab.research.google.com/assets/colab-badge.svg\" alt=\"Open In Colab\"/></a>"
      ]
    },
    {
      "cell_type": "markdown",
      "metadata": {
        "id": "CWeoJe2BHhNz",
        "colab_type": "text"
      },
      "source": [
        "Exercício 1\n",
        "# **Projeto: Calculo de Notas**\n",
        "Programa recebe 4 nomes e 4 notas. Diz se o aluno foi aprovado, reprovado ou terá que fazer uma prova final."
      ]
    },
    {
      "cell_type": "code",
      "metadata": {
        "id": "TIlSscsISjxI",
        "colab_type": "code",
        "colab": {}
      },
      "source": [
        "from google.colab import drive\n",
        "drive.mount('/gdrive')\n",
        "%cd /gdrive"
      ],
      "execution_count": 0,
      "outputs": []
    },
    {
      "cell_type": "code",
      "metadata": {
        "id": "fIMNyxreH14w",
        "colab_type": "code",
        "outputId": "48d1cfc1-becf-424a-fe01-e8ec4cd89e89",
        "colab": {
          "base_uri": "https://localhost:8080/",
          "height": 476
        }
      },
      "source": [
        "for i in range(1,4):\n",
        "  print('')\n",
        "  nome = str(input('Entre com o nome do aluno: '))\n",
        "  print('')\n",
        "\n",
        "  notas = []\n",
        "  for nota in range(1, 5):\n",
        "    resultado = int(input('Entre com a {0}º nota: '.format(nota)))\n",
        "    if (resultado >= 0) and (resultado <= 10):\n",
        "      notas.append(resultado)\n",
        "    else:\n",
        "      print('Entre com uma nota entre 0 e 10.')\n",
        "      break\n",
        "      \n",
        "  media = sum(notas) / len(notas)\n",
        "\n",
        "  print('')\n",
        "\n",
        "  if (media >= 7):\n",
        "      print('Parabéns! {1}, você foi aprovado. Sua media foi: {0}'.format(media, nome))\n",
        "  elif (media >= 5) and (media < 7):\n",
        "      print('Atenção! {1}, terá que fazer uma prova final. Sua media foi: {0}'.format(media, nome))\n",
        "  else:\n",
        "      print('Desculpe! {1}, você foi reprovado. Sua media foi: {0}'.format(media, nome))"
      ],
      "execution_count": 30,
      "outputs": [
        {
          "output_type": "stream",
          "text": [
            "\n",
            "Entre com o nome do aluno: Vinicius Vini\n",
            "\n",
            "Entre com a 1º nota: 10\n",
            "Entre com a 2º nota: 10\n",
            "Entre com a 3º nota: 10\n",
            "Entre com a 4º nota: 10\n",
            "\n",
            "Parabéns! Vinicius Vini, você foi aprovado. Sua media foi: 10.0\n",
            "\n",
            "Entre com o nome do aluno: João Joarez\n",
            "\n",
            "Entre com a 1º nota: 5\n",
            "Entre com a 2º nota: 5\n",
            "Entre com a 3º nota: 5\n",
            "Entre com a 4º nota: 5\n",
            "\n",
            "Atenção! João Joarez, terá que fazer uma prova final. Sua media foi: 5.0\n",
            "\n",
            "Entre com o nome do aluno: Lucas Lucio\n",
            "\n",
            "Entre com a 1º nota: 4\n",
            "Entre com a 2º nota: 4\n",
            "Entre com a 3º nota: 4\n",
            "Entre com a 4º nota: 4\n",
            "\n",
            "Desculpe! Lucas Lucio, você foi reprovado. Sua media foi: 4.0\n"
          ],
          "name": "stdout"
        }
      ]
    }
  ]
}